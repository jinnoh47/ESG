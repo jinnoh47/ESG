{
 "cells": [
  {
   "cell_type": "code",
   "execution_count": null,
   "id": "XoUolR9sZERb",
   "metadata": {
    "colab": {
     "base_uri": "https://localhost:8080/"
    },
    "id": "XoUolR9sZERb",
    "outputId": "c2098f5a-cd45-489c-cfb6-bfb874ec8e7f"
   },
   "outputs": [],
   "source": [
    "!sudo apt install tesseract-ocr\n",
    "!pip install pytesseract"
   ]
  },
  {
   "cell_type": "code",
   "execution_count": null,
   "id": "427210da-4292-4b4e-8e2d-55e9a38dc88e",
   "metadata": {
    "colab": {
     "base_uri": "https://localhost:8080/"
    },
    "execution": {
     "iopub.execute_input": "2024-12-04T00:59:25.494194Z",
     "iopub.status.busy": "2024-12-04T00:59:25.493787Z",
     "iopub.status.idle": "2024-12-04T00:59:29.968533Z",
     "shell.execute_reply": "2024-12-04T00:59:29.967887Z",
     "shell.execute_reply.started": "2024-12-04T00:59:25.494156Z"
    },
    "id": "427210da-4292-4b4e-8e2d-55e9a38dc88e",
    "outputId": "510ea775-0126-46cc-b694-d2adefc077da"
   },
   "outputs": [],
   "source": [
    "from PIL import Image\n",
    "from transformers import DetrImageProcessor\n",
    "from transformers import TableTransformerForObjectDetection\n",
    "\n",
    "import torch\n",
    "import matplotlib.pyplot as plt\n",
    "import os\n",
    "import psutil\n",
    "import time\n",
    "from transformers import DetrFeatureExtractor\n",
    "feature_extractor = DetrFeatureExtractor()\n",
    "import pandas as pd\n",
    "\n",
    "import pytesseract\n",
    "\n",
    "model = TableTransformerForObjectDetection.from_pretrained(\"microsoft/table-transformer-detection\")"
   ]
  },
  {
   "cell_type": "code",
   "execution_count": 4,
   "id": "1a1f312f-dde7-4afb-9632-ff2a4fa024f7",
   "metadata": {
    "execution": {
     "iopub.execute_input": "2024-12-04T00:59:29.972113Z",
     "iopub.status.busy": "2024-12-04T00:59:29.971799Z",
     "iopub.status.idle": "2024-12-04T00:59:29.978994Z",
     "shell.execute_reply": "2024-12-04T00:59:29.978354Z",
     "shell.execute_reply.started": "2024-12-04T00:59:29.972092Z"
    },
    "id": "1a1f312f-dde7-4afb-9632-ff2a4fa024f7"
   },
   "outputs": [],
   "source": [
    "COLORS = [[0.000, 0.447, 0.741], [0.850, 0.325, 0.098], [0.929, 0.694, 0.125],\n",
    "          [0.494, 0.184, 0.556], [0.466, 0.674, 0.188], [0.301, 0.745, 0.933]]\n",
    "\n",
    "def plot_results(pil_img, scores, labels, boxes):\n",
    "    plt.figure(figsize=(16,10))\n",
    "    plt.imshow(pil_img)\n",
    "    ax = plt.gca()\n",
    "    colors = COLORS * 100\n",
    "    for score, label, (xmin, ymin, xmax, ymax),c  in zip(scores.tolist(), labels.tolist(), boxes.tolist(), colors):\n",
    "        ax.add_patch(plt.Rectangle((xmin, ymin), xmax - xmin, ymax - ymin,\n",
    "                                   fill=False, color=c, linewidth=3))\n",
    "        text = f'{model.config.id2label[label]}: {score:0.2f}'\n",
    "        ax.text(xmin, ymin, text, fontsize=15,\n",
    "                bbox=dict(facecolor='yellow', alpha=0.5))\n",
    "    plt.axis('off')\n",
    "    plt.show()"
   ]
  },
  {
   "cell_type": "code",
   "execution_count": null,
   "id": "jgQ_VghEJV8r",
   "metadata": {
    "colab": {
     "base_uri": "https://localhost:8080/"
    },
    "id": "jgQ_VghEJV8r",
    "outputId": "ca0ec443-d847-4339-ca5f-b70d3f8dc1b5"
   },
   "outputs": [],
   "source": [
    "import os\n",
    "print(os.getcwd())"
   ]
  },
  {
   "cell_type": "code",
   "execution_count": null,
   "id": "77e2e495-aa82-46c8-afed-3b6f067e214e",
   "metadata": {
    "colab": {
     "base_uri": "https://localhost:8080/"
    },
    "execution": {
     "iopub.execute_input": "2024-12-04T00:59:29.979734Z",
     "iopub.status.busy": "2024-12-04T00:59:29.979578Z",
     "iopub.status.idle": "2024-12-04T00:59:29.983335Z",
     "shell.execute_reply": "2024-12-04T00:59:29.982884Z",
     "shell.execute_reply.started": "2024-12-04T00:59:29.979719Z"
    },
    "id": "77e2e495-aa82-46c8-afed-3b6f067e214e",
    "outputId": "ee7c5cff-ac06-424c-e898-d514752def26"
   },
   "outputs": [],
   "source": [
    "ram_usage = psutil.Process(os.getpid()).memory_info().rss / 1024 / 1024\n",
    "\n",
    "print(f\"ram usage : {ram_usage}\")"
   ]
  },
  {
   "cell_type": "code",
   "execution_count": 7,
   "id": "87288067-cc1b-4983-9e44-690d084446c5",
   "metadata": {
    "execution": {
     "iopub.execute_input": "2024-12-04T00:59:29.984702Z",
     "iopub.status.busy": "2024-12-04T00:59:29.984385Z",
     "iopub.status.idle": "2024-12-04T00:59:29.988779Z",
     "shell.execute_reply": "2024-12-04T00:59:29.988294Z",
     "shell.execute_reply.started": "2024-12-04T00:59:29.984685Z"
    },
    "id": "87288067-cc1b-4983-9e44-690d084446c5"
   },
   "outputs": [],
   "source": [
    "def table_detection(file_path):\n",
    "    image = Image.open(file_path).convert(\"RGB\")\n",
    "    width, height = image.size\n",
    "    image.resize((int(width*0.5), int(height*0.5)))\n",
    "\n",
    "    feature_extractor = DetrImageProcessor()\n",
    "    encoding = feature_extractor(image, return_tensors=\"pt\")\n",
    "\n",
    "    with torch.no_grad():\n",
    "        outputs = model(**encoding)\n",
    "\n",
    "    width, height = image.size\n",
    "    results = feature_extractor.post_process_object_detection(outputs, threshold=0.7, target_sizes=[(height, width)])[0]\n",
    "    plot_results(image, results['scores'], results['labels'], results['boxes'])\n",
    "    return results['boxes']"
   ]
  },
  {
   "cell_type": "code",
   "execution_count": null,
   "id": "36b15673-a277-44c5-a1c7-4efceddf201e",
   "metadata": {
    "colab": {
     "base_uri": "https://localhost:8080/",
     "height": 1000
    },
    "execution": {
     "iopub.execute_input": "2024-12-04T00:59:29.989840Z",
     "iopub.status.busy": "2024-12-04T00:59:29.989509Z",
     "iopub.status.idle": "2024-12-04T01:01:21.783066Z",
     "shell.execute_reply": "2024-12-04T01:01:21.782314Z",
     "shell.execute_reply.started": "2024-12-04T00:59:29.989820Z"
    },
    "id": "36b15673-a277-44c5-a1c7-4efceddf201e",
    "outputId": "b1f8f159-336e-48ce-f636-4a4eb3be8efe",
    "scrolled": true
   },
   "outputs": [],
   "source": [
    "count = 0\n",
    "root = \"/content/images\"\n",
    "\n",
    "for file in os.listdir(root):\n",
    "    file_path = os.path.join(root, file)\n",
    "    start_time = time.time()\n",
    "\n",
    "    pred_bbox = table_detection(file_path)\n",
    "\n",
    "\n",
    "    count += 1\n",
    "\n",
    "    end_time = time.time()\n",
    "    time_usage = end_time - start_time\n",
    "    ram_usage = psutil.Process(os.getpid()).memory_info().rss / 1024 / 1024\n",
    "\n",
    "    print(f\"Iteration {count + 1} - RAM Usage: {ram_usage:.2f} MB, Time Usage: {time_usage:.2f} seconds\")"
   ]
  },
  {
   "cell_type": "code",
   "execution_count": 9,
   "id": "d19afb66-fb18-46b5-8b00-704ee4a59bf6",
   "metadata": {
    "execution": {
     "iopub.execute_input": "2024-12-04T01:14:24.085770Z",
     "iopub.status.busy": "2024-12-04T01:14:24.085259Z",
     "iopub.status.idle": "2024-12-04T01:14:24.091674Z",
     "shell.execute_reply": "2024-12-04T01:14:24.090643Z",
     "shell.execute_reply.started": "2024-12-04T01:14:24.085728Z"
    },
    "id": "d19afb66-fb18-46b5-8b00-704ee4a59bf6"
   },
   "outputs": [],
   "source": [
    "from huggingface_hub import hf_hub_download\n",
    "from PIL import Image"
   ]
  },
  {
   "cell_type": "code",
   "execution_count": null,
   "id": "77525fe9-b690-4ea9-be7e-a9d301bcbb33",
   "metadata": {
    "colab": {
     "base_uri": "https://localhost:8080/",
     "height": 153,
     "referenced_widgets": [
      "d9610ef550ac49ec9b61bde5ab831bb5",
      "0e86ef3b432e4e9bac1e0a9a82fe845a",
      "fdb023f6c7d14b529e6e2610f6dc9556",
      "84ff3fadcbdd4c0286804647eec5f78e",
      "1384f52de6014ee5918710c2060fcd30",
      "49da26bef8b1435aac4977bf7a71965c",
      "c992276bfd33477ba8e0684d4eed170e",
      "cdf35fcbbd8e48baaba19b13f9fc0de1",
      "b771ad628b6d431eb213da438369f5ac",
      "b8f48132c5fc4323859d32b43aaf0d85",
      "31da405cbb7d498abe4bfd02dcd9d346",
      "81f9622cbc9440fba1a0827b8d0fb2de",
      "6eb302ee16d84c5a8e85ccac3010dfe0",
      "3bee319804ff4ce0945ea503d9d2e1fb",
      "1c9a8bc9341f4daea0fe8f372c90e5eb",
      "2fc6fb9a2bb84df8b251fc655919b130",
      "5296372ff0bb4c69b61cb199b5ef865b",
      "bb83d651759b49058a5afebad0f607fe",
      "562a059b4f8144268cb22469ee5207f7",
      "c40ec174d45a47b79d9e6339f3aaa624",
      "f35404cd6c084347b467288b6ed92514",
      "917d5d85349342f58d415ed6c04b522a"
     ]
    },
    "execution": {
     "iopub.execute_input": "2024-12-04T01:14:31.915873Z",
     "iopub.status.busy": "2024-12-04T01:14:31.915367Z",
     "iopub.status.idle": "2024-12-04T01:14:43.566803Z",
     "shell.execute_reply": "2024-12-04T01:14:43.566001Z",
     "shell.execute_reply.started": "2024-12-04T01:14:31.915833Z"
    },
    "id": "77525fe9-b690-4ea9-be7e-a9d301bcbb33",
    "outputId": "1ee5eddc-2f56-48f2-86bf-1e19798a39e5"
   },
   "outputs": [],
   "source": [
    "from transformers import TableTransformerForObjectDetection\n",
    "\n",
    "model = TableTransformerForObjectDetection.from_pretrained(\"microsoft/table-transformer-structure-recognition\")"
   ]
  },
  {
   "cell_type": "code",
   "execution_count": 11,
   "id": "04fc76d5-6c74-4021-b934-3c6c26e4773a",
   "metadata": {
    "execution": {
     "iopub.execute_input": "2024-12-04T01:16:16.615370Z",
     "iopub.status.busy": "2024-12-04T01:16:16.614888Z",
     "iopub.status.idle": "2024-12-04T01:16:16.625423Z",
     "shell.execute_reply": "2024-12-04T01:16:16.624454Z",
     "shell.execute_reply.started": "2024-12-04T01:16:16.615329Z"
    },
    "id": "04fc76d5-6c74-4021-b934-3c6c26e4773a"
   },
   "outputs": [],
   "source": [
    "def cell_detection(file_path):\n",
    "\n",
    "    image = Image.open(file_path).convert(\"RGB\")\n",
    "    width, height = image.size\n",
    "    image.resize((int(width*0.5), int(height*0.5)))\n",
    "\n",
    "\n",
    "    encoding = feature_extractor(image, return_tensors=\"pt\")\n",
    "    encoding.keys()\n",
    "\n",
    "    with torch.no_grad():\n",
    "      outputs = model(**encoding)\n",
    "\n",
    "\n",
    "    target_sizes = [image.size[::-1]]\n",
    "    results = feature_extractor.post_process_object_detection(outputs, threshold=0.6, target_sizes=target_sizes)[0]\n",
    "    plot_results(image, results['scores'], results['labels'], results['boxes'])\n",
    "    model.config.id2label"
   ]
  },
  {
   "cell_type": "code",
   "execution_count": null,
   "id": "d77b179c-bdfb-4beb-992d-69dd7e99b08e",
   "metadata": {
    "colab": {
     "base_uri": "https://localhost:8080/"
    },
    "execution": {
     "iopub.execute_input": "2024-12-04T01:16:31.384702Z",
     "iopub.status.busy": "2024-12-04T01:16:31.384205Z",
     "iopub.status.idle": "2024-12-04T01:16:31.392445Z",
     "shell.execute_reply": "2024-12-04T01:16:31.391423Z",
     "shell.execute_reply.started": "2024-12-04T01:16:31.384660Z"
    },
    "id": "d77b179c-bdfb-4beb-992d-69dd7e99b08e",
    "outputId": "e5753794-fade-4963-de56-00e896919e0b"
   },
   "outputs": [],
   "source": [
    "ram_usage = psutil.Process(os.getpid()).memory_info().rss / 1024 / 1024\n",
    "\n",
    "print(f\"ram usage : {ram_usage}\")\n"
   ]
  },
  {
   "cell_type": "code",
   "execution_count": null,
   "id": "f7244375-95a7-4247-83a4-020ef10da1c7",
   "metadata": {
    "colab": {
     "base_uri": "https://localhost:8080/",
     "height": 1000
    },
    "execution": {
     "iopub.execute_input": "2024-12-04T01:17:05.986362Z",
     "iopub.status.busy": "2024-12-04T01:17:05.985865Z",
     "iopub.status.idle": "2024-12-04T01:19:08.164811Z",
     "shell.execute_reply": "2024-12-04T01:19:08.163973Z",
     "shell.execute_reply.started": "2024-12-04T01:17:05.986332Z"
    },
    "id": "f7244375-95a7-4247-83a4-020ef10da1c7",
    "outputId": "2116de38-88a3-46f8-8627-0994876b21d3",
    "scrolled": true
   },
   "outputs": [],
   "source": [
    "count = 0\n",
    "root = \"/content/images\"\n",
    "for file in os.listdir(root):\n",
    "    file_path= os.path.join(root, file)\n",
    "    start_time = time.time()\n",
    "\n",
    "    cell_detection(file_path)\n",
    "    count+=1\n",
    "\n",
    "    end_time = time.time()\n",
    "    time_usage = end_time - start_time\n",
    "    ram_usage = psutil.Process(os.getpid()).memory_info().rss / 1024 / 1024\n",
    "\n",
    "    print(f\"Iteration {count + 1} - RAM Usage: {ram_usage:.2f} MB, Time Usage: {time_usage:.2f} seconds\")"
   ]
  },
  {
   "cell_type": "code",
   "execution_count": 14,
   "id": "dccb27ab-780a-453a-9b0e-5f1988dc267a",
   "metadata": {
    "execution": {
     "iopub.execute_input": "2024-12-04T01:26:23.238771Z",
     "iopub.status.busy": "2024-12-04T01:26:23.237811Z",
     "iopub.status.idle": "2024-12-04T01:26:23.250084Z",
     "shell.execute_reply": "2024-12-04T01:26:23.248806Z",
     "shell.execute_reply.started": "2024-12-04T01:26:23.238729Z"
    },
    "id": "dccb27ab-780a-453a-9b0e-5f1988dc267a"
   },
   "outputs": [],
   "source": [
    "def plot_results_specific(pil_img, scores, labels, boxes,lab):\n",
    "    plt.figure(figsize=(16, 10))\n",
    "    plt.imshow(pil_img)\n",
    "    ax = plt.gca()\n",
    "    colors = COLORS * 100\n",
    "    for score, label, (xmin, ymin, xmax, ymax), c in zip(scores.tolist(), labels.tolist(), boxes.tolist(), colors):\n",
    "        if label == lab:\n",
    "            ax.add_patch(plt.Rectangle((xmin, ymin), xmax - xmin, ymax - ymin,\n",
    "                                       fill=False, color=c, linewidth=3))\n",
    "            text = f'{model.config.id2label[label]}: {score:0.2f}'\n",
    "            ax.text(xmin, ymin, text, fontsize=15,\n",
    "                    bbox=dict(facecolor='yellow', alpha=0.5))\n",
    "    plt.axis('off')\n",
    "    plt.show()"
   ]
  },
  {
   "cell_type": "code",
   "execution_count": 15,
   "id": "ffb87ba9-6a46-483e-bfd4-c3e79ecc684a",
   "metadata": {
    "execution": {
     "iopub.execute_input": "2024-12-04T01:26:32.357487Z",
     "iopub.status.busy": "2024-12-04T01:26:32.357096Z",
     "iopub.status.idle": "2024-12-04T01:26:32.364337Z",
     "shell.execute_reply": "2024-12-04T01:26:32.363208Z",
     "shell.execute_reply.started": "2024-12-04T01:26:32.357464Z"
    },
    "id": "ffb87ba9-6a46-483e-bfd4-c3e79ecc684a"
   },
   "outputs": [],
   "source": [
    "def draw_box_specific(image_path,labelnum):\n",
    "    image = Image.open(image_path).convert(\"RGB\")\n",
    "    width, height = image.size\n",
    "\n",
    "    encoding = feature_extractor(image, return_tensors=\"pt\")\n",
    "\n",
    "    with torch.no_grad():\n",
    "        outputs = model(**encoding)\n",
    "\n",
    "    results = feature_extractor.post_process_object_detection(outputs, threshold=0.7, target_sizes=[(height, width)])[0]\n",
    "    plot_results_specific(image, results['scores'], results['labels'], results['boxes'],labelnum)"
   ]
  },
  {
   "cell_type": "code",
   "execution_count": 16,
   "id": "fbf01328-9a32-43ad-a81b-86fb48bdfb0a",
   "metadata": {
    "execution": {
     "iopub.execute_input": "2024-12-04T01:26:43.921739Z",
     "iopub.status.busy": "2024-12-04T01:26:43.920978Z",
     "iopub.status.idle": "2024-12-04T01:26:43.930562Z",
     "shell.execute_reply": "2024-12-04T01:26:43.929232Z",
     "shell.execute_reply.started": "2024-12-04T01:26:43.921697Z"
    },
    "id": "fbf01328-9a32-43ad-a81b-86fb48bdfb0a"
   },
   "outputs": [],
   "source": [
    "def compute_boxes(image_path):\n",
    "    image = Image.open(image_path).convert(\"RGB\")\n",
    "    width, height = image.size\n",
    "\n",
    "    encoding = feature_extractor(image, return_tensors=\"pt\")\n",
    "\n",
    "    with torch.no_grad():\n",
    "        outputs = model(**encoding)\n",
    "\n",
    "    results = feature_extractor.post_process_object_detection(outputs, threshold=0.7, target_sizes=[(height, width)])[0]\n",
    "    boxes = results['boxes'].tolist()\n",
    "    labels = results['labels'].tolist()\n",
    "\n",
    "    return boxes,labels"
   ]
  },
  {
   "cell_type": "code",
   "execution_count": 17,
   "id": "644d3382-f967-4b3f-b7d3-2acf4d451103",
   "metadata": {
    "execution": {
     "iopub.execute_input": "2024-12-04T01:26:59.191334Z",
     "iopub.status.busy": "2024-12-04T01:26:59.190919Z",
     "iopub.status.idle": "2024-12-04T01:26:59.206057Z",
     "shell.execute_reply": "2024-12-04T01:26:59.204872Z",
     "shell.execute_reply.started": "2024-12-04T01:26:59.191308Z"
    },
    "id": "644d3382-f967-4b3f-b7d3-2acf4d451103"
   },
   "outputs": [],
   "source": [
    "def extract_table(image_path):\n",
    "    image = Image.open(image_path).convert(\"RGB\")\n",
    "    boxes,labels = compute_boxes(image_path)\n",
    "\n",
    "    cell_locations = []\n",
    "\n",
    "    for box_row, label_row in zip(boxes, labels):\n",
    "        if label_row == 2:\n",
    "            for box_col, label_col in zip(boxes, labels):\n",
    "                if label_col == 1:\n",
    "                    cell_box = (box_col[0], box_row[1], box_col[2], box_row[3])\n",
    "                    cell_locations.append(cell_box)\n",
    "\n",
    "    cell_locations.sort(key=lambda x: (x[1], x[0]))\n",
    "\n",
    "    num_columns = 0\n",
    "    box_old = cell_locations[0]\n",
    "\n",
    "    for box in cell_locations[1:]:\n",
    "        x1, y1, x2, y2 = box\n",
    "        x1_old, y1_old, x2_old, y2_old = box_old\n",
    "        num_columns += 1\n",
    "        if y1 > y1_old:\n",
    "            break\n",
    "\n",
    "        box_old = box\n",
    "\n",
    "    headers = []\n",
    "    for box in cell_locations[:num_columns]:\n",
    "        x1, y1, x2, y2 = box\n",
    "        cell_image = image.crop((x1, y1, x2, y2))\n",
    "        new_width = cell_image.width * 4\n",
    "        new_height = cell_image.height * 4\n",
    "        cell_image = cell_image.resize((new_width, new_height), resample=Image.LANCZOS)\n",
    "        cell_text = pytesseract.image_to_string(cell_image)\n",
    "        headers.append(cell_text.rstrip())\n",
    "\n",
    "    df = pd.DataFrame(columns=headers)\n",
    "\n",
    "    row = []\n",
    "    for box in cell_locations[num_columns:]:\n",
    "        x1, y1, x2, y2 = box\n",
    "        cell_image = image.crop((x1, y1, x2, y2))\n",
    "        new_width = cell_image.width * 4\n",
    "        new_height = cell_image.height * 4\n",
    "        cell_image = cell_image.resize((new_width, new_height), resample=Image.LANCZOS)\n",
    "        cell_text = pytesseract.image_to_string(cell_image)\n",
    "\n",
    "        if len(cell_text) > num_columns:\n",
    "            cell_text = cell_text[:num_columns]\n",
    "\n",
    "        row.append(cell_text.rstrip())\n",
    "\n",
    "        if len(row) == num_columns:\n",
    "            df.loc[len(df)] = row\n",
    "            row = []\n",
    "\n",
    "    return df"
   ]
  },
  {
   "cell_type": "code",
   "execution_count": null,
   "id": "d6e2f7b7-7269-4c4d-b633-edfab22c8483",
   "metadata": {
    "colab": {
     "base_uri": "https://localhost:8080/",
     "height": 1000
    },
    "execution": {
     "iopub.execute_input": "2024-12-04T01:47:48.914210Z",
     "iopub.status.busy": "2024-12-04T01:47:48.913750Z"
    },
    "id": "d6e2f7b7-7269-4c4d-b633-edfab22c8483",
    "outputId": "74f4e185-0405-4e1c-dc0f-ee0f56a6cd09",
    "scrolled": true
   },
   "outputs": [],
   "source": [
    "count = 0\n",
    "root = \"/content/images\"\n",
    "\n",
    "for file in os.listdir(root):\n",
    "    try:\n",
    "        file_path = os.path.join(root, file)\n",
    "\n",
    "        table_box = draw_box_specific(file_path,1)\n",
    "        df = extract_table(file_path)\n",
    "        output_csv = f\"data_{count}.csv\"\n",
    "        df.to_csv(output_csv, index=False)\n",
    "\n",
    "        count += 1\n",
    "\n",
    "    except:\n",
    "        print('예외가 발생했습니다.')"
   ]
  },
  {
   "cell_type": "code",
   "execution_count": 23,
   "id": "c97a0417-85b5-45a1-a844-53e70fe86aca",
   "metadata": {
    "id": "c97a0417-85b5-45a1-a844-53e70fe86aca"
   },
   "outputs": [],
   "source": [
    "import zipfile\n",
    "\n",
    "root = \"/content\"\n",
    "\n",
    "file_list = [file for file in os.listdir(root) if file.endswith('.csv')]\n",
    "\n",
    "with zipfile.ZipFile('output.zip', 'w') as zipf:\n",
    "    for file in file_list:\n",
    "        file_path = os.path.join(root, file)\n",
    "        zipf.write(file)\n",
    "\n",
    "    zipf.close()"
   ]
  },
  {
   "cell_type": "code",
   "execution_count": 10,
   "id": "nggXChJZncgM",
   "metadata": {
    "execution": {
     "iopub.execute_input": "2024-12-05T04:18:17.271412Z",
     "iopub.status.busy": "2024-12-05T04:18:17.271014Z",
     "iopub.status.idle": "2024-12-05T04:18:17.300212Z",
     "shell.execute_reply": "2024-12-05T04:18:17.299457Z",
     "shell.execute_reply.started": "2024-12-05T04:18:17.271379Z"
    },
    "id": "nggXChJZncgM"
   },
   "outputs": [],
   "source": [
    "from langchain_community.document_loaders.csv_loader import CSVLoader\n",
    "\n",
    "directory_path = \"/home/jovyan/samchully/jhn/output\"\n",
    "\n",
    "# 디렉터리 내의 모든 CSV 파일 필터링\n",
    "csv_files = [os.path.join(directory_path, file) for file in os.listdir(directory_path) if file.endswith('.csv')]\n",
    "\n",
    "all_data = []\n",
    "\n",
    "for csv_file in csv_files:\n",
    "    loader = CSVLoader(file_path = csv_file)\n",
    "    data = loader.load()\n",
    "    all_data.append(data) \n",
    "\n",
    "#all_data"
   ]
  },
  {
   "cell_type": "code",
   "execution_count": 21,
   "id": "f31fdb40-dbc7-4dad-b1bb-f2107c5bb6d3",
   "metadata": {
    "execution": {
     "iopub.execute_input": "2024-12-05T04:49:08.266619Z",
     "iopub.status.busy": "2024-12-05T04:49:08.266219Z",
     "iopub.status.idle": "2024-12-05T04:49:08.271366Z",
     "shell.execute_reply": "2024-12-05T04:49:08.270541Z",
     "shell.execute_reply.started": "2024-12-05T04:49:08.266586Z"
    }
   },
   "outputs": [],
   "source": [
    "import openai\n",
    "from getpass import getpass\n",
    "\n",
    "os.environ[\"OPENAI_API_KEY\"] = \"open_ai_key\""
   ]
  },
  {
   "cell_type": "code",
   "execution_count": 22,
   "id": "38a8a90b-65bb-43d2-9f73-0522198840fe",
   "metadata": {
    "execution": {
     "iopub.execute_input": "2024-12-05T04:49:43.259455Z",
     "iopub.status.busy": "2024-12-05T04:49:43.259039Z",
     "iopub.status.idle": "2024-12-05T04:49:43.264011Z",
     "shell.execute_reply": "2024-12-05T04:49:43.263182Z",
     "shell.execute_reply.started": "2024-12-05T04:49:43.259421Z"
    }
   },
   "outputs": [],
   "source": [
    "from langchain_openai import OpenAIEmbeddings"
   ]
  },
  {
   "cell_type": "code",
   "execution_count": 23,
   "id": "696fe973-6df9-45c5-9ab8-6297f99125dc",
   "metadata": {
    "execution": {
     "iopub.execute_input": "2024-12-05T04:49:51.600850Z",
     "iopub.status.busy": "2024-12-05T04:49:51.600625Z",
     "iopub.status.idle": "2024-12-05T04:49:51.632683Z",
     "shell.execute_reply": "2024-12-05T04:49:51.632229Z",
     "shell.execute_reply.started": "2024-12-05T04:49:51.600833Z"
    }
   },
   "outputs": [],
   "source": [
    "embedding_model = OpenAIEmbeddings()"
   ]
  },
  {
   "cell_type": "code",
   "execution_count": 24,
   "id": "eea2798e-9e0d-4c31-ac93-d18d7596cb10",
   "metadata": {
    "execution": {
     "iopub.execute_input": "2024-12-05T04:50:01.993758Z",
     "iopub.status.busy": "2024-12-05T04:50:01.992811Z",
     "iopub.status.idle": "2024-12-05T04:50:02.018890Z",
     "shell.execute_reply": "2024-12-05T04:50:02.018330Z",
     "shell.execute_reply.started": "2024-12-05T04:50:01.993718Z"
    }
   },
   "outputs": [],
   "source": [
    "from langchain.text_splitter import RecursiveCharacterTextSplitter\n",
    "\n",
    "# all_data는 리스트 형태로 여러 파일의 데이터를 포함하므로 이를 문자열로 변환\n",
    "all_text = \"\\n\".join(str(data) for data in all_data)  # 데이터를 문자열로 변환 및 병합\n",
    "\n",
    "# 텍스트 분할기 생성\n",
    "text_splitter = RecursiveCharacterTextSplitter(\n",
    "    chunk_size=500,\n",
    "    chunk_overlap=100,\n",
    ")\n",
    "\n",
    "# 텍스트 분할\n",
    "texts = text_splitter.split_text(all_text)"
   ]
  },
  {
   "cell_type": "code",
   "execution_count": 25,
   "id": "f856da2f-88e3-4901-adfe-5158f3c354c2",
   "metadata": {
    "execution": {
     "iopub.execute_input": "2024-12-05T04:50:04.333081Z",
     "iopub.status.busy": "2024-12-05T04:50:04.332668Z",
     "iopub.status.idle": "2024-12-05T04:50:04.337443Z",
     "shell.execute_reply": "2024-12-05T04:50:04.336842Z",
     "shell.execute_reply.started": "2024-12-05T04:50:04.333049Z"
    }
   },
   "outputs": [],
   "source": [
    "import faiss\n",
    "from langchain_community.vectorstores import FAISS\n",
    "from langchain_community.docstore.in_memory import InMemoryDocstore"
   ]
  },
  {
   "cell_type": "code",
   "execution_count": 26,
   "id": "a5c29f94-8efb-4558-ba0c-4f0e8feb660f",
   "metadata": {
    "execution": {
     "iopub.execute_input": "2024-12-05T04:50:04.563084Z",
     "iopub.status.busy": "2024-12-05T04:50:04.562710Z",
     "iopub.status.idle": "2024-12-05T04:50:04.569435Z",
     "shell.execute_reply": "2024-12-05T04:50:04.568622Z",
     "shell.execute_reply.started": "2024-12-05T04:50:04.563051Z"
    }
   },
   "outputs": [],
   "source": [
    "# 파일에서 FAISS 인덱스 로드\n",
    "index = faiss.read_index(\"faiss_index.index\")"
   ]
  },
  {
   "cell_type": "code",
   "execution_count": null,
   "id": "7ac17c91-a3d1-4b59-baa3-85706b368ccf",
   "metadata": {
    "execution": {
     "iopub.execute_input": "2024-12-05T04:59:20.882427Z",
     "iopub.status.busy": "2024-12-05T04:59:20.881973Z",
     "iopub.status.idle": "2024-12-05T04:59:20.887868Z",
     "shell.execute_reply": "2024-12-05T04:59:20.887019Z",
     "shell.execute_reply.started": "2024-12-05T04:59:20.882389Z"
    }
   },
   "outputs": [],
   "source": [
    "import os\n",
    "print(os.getcwd())"
   ]
  },
  {
   "cell_type": "code",
   "execution_count": null,
   "id": "0ea2ebdc-ce74-407a-82f3-a42c2477b2b6",
   "metadata": {},
   "outputs": [],
   "source": []
  }
 ],
 "metadata": {
  "colab": {
   "provenance": []
  },
  "kernelspec": {
   "display_name": "Python 3 (ipykernel)",
   "language": "python",
   "name": "python3"
  },
  "language_info": {
   "codemirror_mode": {
    "name": "ipython",
    "version": 3
   },
   "file_extension": ".py",
   "mimetype": "text/x-python",
   "name": "python",
   "nbconvert_exporter": "python",
   "pygments_lexer": "ipython3",
   "version": "3.11.3"
  },
  "widgets": {
   "application/vnd.jupyter.widget-state+json": {
    "0e86ef3b432e4e9bac1e0a9a82fe845a": {
     "model_module": "@jupyter-widgets/controls",
     "model_module_version": "1.5.0",
     "model_name": "HTMLModel",
     "state": {
      "_dom_classes": [],
      "_model_module": "@jupyter-widgets/controls",
      "_model_module_version": "1.5.0",
      "_model_name": "HTMLModel",
      "_view_count": null,
      "_view_module": "@jupyter-widgets/controls",
      "_view_module_version": "1.5.0",
      "_view_name": "HTMLView",
      "description": "",
      "description_tooltip": null,
      "layout": "IPY_MODEL_49da26bef8b1435aac4977bf7a71965c",
      "placeholder": "​",
      "style": "IPY_MODEL_c992276bfd33477ba8e0684d4eed170e",
      "value": "config.json: 100%"
     }
    },
    "1384f52de6014ee5918710c2060fcd30": {
     "model_module": "@jupyter-widgets/base",
     "model_module_version": "1.2.0",
     "model_name": "LayoutModel",
     "state": {
      "_model_module": "@jupyter-widgets/base",
      "_model_module_version": "1.2.0",
      "_model_name": "LayoutModel",
      "_view_count": null,
      "_view_module": "@jupyter-widgets/base",
      "_view_module_version": "1.2.0",
      "_view_name": "LayoutView",
      "align_content": null,
      "align_items": null,
      "align_self": null,
      "border": null,
      "bottom": null,
      "display": null,
      "flex": null,
      "flex_flow": null,
      "grid_area": null,
      "grid_auto_columns": null,
      "grid_auto_flow": null,
      "grid_auto_rows": null,
      "grid_column": null,
      "grid_gap": null,
      "grid_row": null,
      "grid_template_areas": null,
      "grid_template_columns": null,
      "grid_template_rows": null,
      "height": null,
      "justify_content": null,
      "justify_items": null,
      "left": null,
      "margin": null,
      "max_height": null,
      "max_width": null,
      "min_height": null,
      "min_width": null,
      "object_fit": null,
      "object_position": null,
      "order": null,
      "overflow": null,
      "overflow_x": null,
      "overflow_y": null,
      "padding": null,
      "right": null,
      "top": null,
      "visibility": null,
      "width": null
     }
    },
    "1c9a8bc9341f4daea0fe8f372c90e5eb": {
     "model_module": "@jupyter-widgets/controls",
     "model_module_version": "1.5.0",
     "model_name": "HTMLModel",
     "state": {
      "_dom_classes": [],
      "_model_module": "@jupyter-widgets/controls",
      "_model_module_version": "1.5.0",
      "_model_name": "HTMLModel",
      "_view_count": null,
      "_view_module": "@jupyter-widgets/controls",
      "_view_module_version": "1.5.0",
      "_view_name": "HTMLView",
      "description": "",
      "description_tooltip": null,
      "layout": "IPY_MODEL_f35404cd6c084347b467288b6ed92514",
      "placeholder": "​",
      "style": "IPY_MODEL_917d5d85349342f58d415ed6c04b522a",
      "value": " 115M/115M [00:01&lt;00:00, 156MB/s]"
     }
    },
    "2fc6fb9a2bb84df8b251fc655919b130": {
     "model_module": "@jupyter-widgets/base",
     "model_module_version": "1.2.0",
     "model_name": "LayoutModel",
     "state": {
      "_model_module": "@jupyter-widgets/base",
      "_model_module_version": "1.2.0",
      "_model_name": "LayoutModel",
      "_view_count": null,
      "_view_module": "@jupyter-widgets/base",
      "_view_module_version": "1.2.0",
      "_view_name": "LayoutView",
      "align_content": null,
      "align_items": null,
      "align_self": null,
      "border": null,
      "bottom": null,
      "display": null,
      "flex": null,
      "flex_flow": null,
      "grid_area": null,
      "grid_auto_columns": null,
      "grid_auto_flow": null,
      "grid_auto_rows": null,
      "grid_column": null,
      "grid_gap": null,
      "grid_row": null,
      "grid_template_areas": null,
      "grid_template_columns": null,
      "grid_template_rows": null,
      "height": null,
      "justify_content": null,
      "justify_items": null,
      "left": null,
      "margin": null,
      "max_height": null,
      "max_width": null,
      "min_height": null,
      "min_width": null,
      "object_fit": null,
      "object_position": null,
      "order": null,
      "overflow": null,
      "overflow_x": null,
      "overflow_y": null,
      "padding": null,
      "right": null,
      "top": null,
      "visibility": null,
      "width": null
     }
    },
    "31da405cbb7d498abe4bfd02dcd9d346": {
     "model_module": "@jupyter-widgets/controls",
     "model_module_version": "1.5.0",
     "model_name": "DescriptionStyleModel",
     "state": {
      "_model_module": "@jupyter-widgets/controls",
      "_model_module_version": "1.5.0",
      "_model_name": "DescriptionStyleModel",
      "_view_count": null,
      "_view_module": "@jupyter-widgets/base",
      "_view_module_version": "1.2.0",
      "_view_name": "StyleView",
      "description_width": ""
     }
    },
    "3bee319804ff4ce0945ea503d9d2e1fb": {
     "model_module": "@jupyter-widgets/controls",
     "model_module_version": "1.5.0",
     "model_name": "FloatProgressModel",
     "state": {
      "_dom_classes": [],
      "_model_module": "@jupyter-widgets/controls",
      "_model_module_version": "1.5.0",
      "_model_name": "FloatProgressModel",
      "_view_count": null,
      "_view_module": "@jupyter-widgets/controls",
      "_view_module_version": "1.5.0",
      "_view_name": "ProgressView",
      "bar_style": "success",
      "description": "",
      "description_tooltip": null,
      "layout": "IPY_MODEL_562a059b4f8144268cb22469ee5207f7",
      "max": 115434268,
      "min": 0,
      "orientation": "horizontal",
      "style": "IPY_MODEL_c40ec174d45a47b79d9e6339f3aaa624",
      "value": 115434268
     }
    },
    "49da26bef8b1435aac4977bf7a71965c": {
     "model_module": "@jupyter-widgets/base",
     "model_module_version": "1.2.0",
     "model_name": "LayoutModel",
     "state": {
      "_model_module": "@jupyter-widgets/base",
      "_model_module_version": "1.2.0",
      "_model_name": "LayoutModel",
      "_view_count": null,
      "_view_module": "@jupyter-widgets/base",
      "_view_module_version": "1.2.0",
      "_view_name": "LayoutView",
      "align_content": null,
      "align_items": null,
      "align_self": null,
      "border": null,
      "bottom": null,
      "display": null,
      "flex": null,
      "flex_flow": null,
      "grid_area": null,
      "grid_auto_columns": null,
      "grid_auto_flow": null,
      "grid_auto_rows": null,
      "grid_column": null,
      "grid_gap": null,
      "grid_row": null,
      "grid_template_areas": null,
      "grid_template_columns": null,
      "grid_template_rows": null,
      "height": null,
      "justify_content": null,
      "justify_items": null,
      "left": null,
      "margin": null,
      "max_height": null,
      "max_width": null,
      "min_height": null,
      "min_width": null,
      "object_fit": null,
      "object_position": null,
      "order": null,
      "overflow": null,
      "overflow_x": null,
      "overflow_y": null,
      "padding": null,
      "right": null,
      "top": null,
      "visibility": null,
      "width": null
     }
    },
    "5296372ff0bb4c69b61cb199b5ef865b": {
     "model_module": "@jupyter-widgets/base",
     "model_module_version": "1.2.0",
     "model_name": "LayoutModel",
     "state": {
      "_model_module": "@jupyter-widgets/base",
      "_model_module_version": "1.2.0",
      "_model_name": "LayoutModel",
      "_view_count": null,
      "_view_module": "@jupyter-widgets/base",
      "_view_module_version": "1.2.0",
      "_view_name": "LayoutView",
      "align_content": null,
      "align_items": null,
      "align_self": null,
      "border": null,
      "bottom": null,
      "display": null,
      "flex": null,
      "flex_flow": null,
      "grid_area": null,
      "grid_auto_columns": null,
      "grid_auto_flow": null,
      "grid_auto_rows": null,
      "grid_column": null,
      "grid_gap": null,
      "grid_row": null,
      "grid_template_areas": null,
      "grid_template_columns": null,
      "grid_template_rows": null,
      "height": null,
      "justify_content": null,
      "justify_items": null,
      "left": null,
      "margin": null,
      "max_height": null,
      "max_width": null,
      "min_height": null,
      "min_width": null,
      "object_fit": null,
      "object_position": null,
      "order": null,
      "overflow": null,
      "overflow_x": null,
      "overflow_y": null,
      "padding": null,
      "right": null,
      "top": null,
      "visibility": null,
      "width": null
     }
    },
    "562a059b4f8144268cb22469ee5207f7": {
     "model_module": "@jupyter-widgets/base",
     "model_module_version": "1.2.0",
     "model_name": "LayoutModel",
     "state": {
      "_model_module": "@jupyter-widgets/base",
      "_model_module_version": "1.2.0",
      "_model_name": "LayoutModel",
      "_view_count": null,
      "_view_module": "@jupyter-widgets/base",
      "_view_module_version": "1.2.0",
      "_view_name": "LayoutView",
      "align_content": null,
      "align_items": null,
      "align_self": null,
      "border": null,
      "bottom": null,
      "display": null,
      "flex": null,
      "flex_flow": null,
      "grid_area": null,
      "grid_auto_columns": null,
      "grid_auto_flow": null,
      "grid_auto_rows": null,
      "grid_column": null,
      "grid_gap": null,
      "grid_row": null,
      "grid_template_areas": null,
      "grid_template_columns": null,
      "grid_template_rows": null,
      "height": null,
      "justify_content": null,
      "justify_items": null,
      "left": null,
      "margin": null,
      "max_height": null,
      "max_width": null,
      "min_height": null,
      "min_width": null,
      "object_fit": null,
      "object_position": null,
      "order": null,
      "overflow": null,
      "overflow_x": null,
      "overflow_y": null,
      "padding": null,
      "right": null,
      "top": null,
      "visibility": null,
      "width": null
     }
    },
    "6eb302ee16d84c5a8e85ccac3010dfe0": {
     "model_module": "@jupyter-widgets/controls",
     "model_module_version": "1.5.0",
     "model_name": "HTMLModel",
     "state": {
      "_dom_classes": [],
      "_model_module": "@jupyter-widgets/controls",
      "_model_module_version": "1.5.0",
      "_model_name": "HTMLModel",
      "_view_count": null,
      "_view_module": "@jupyter-widgets/controls",
      "_view_module_version": "1.5.0",
      "_view_name": "HTMLView",
      "description": "",
      "description_tooltip": null,
      "layout": "IPY_MODEL_5296372ff0bb4c69b61cb199b5ef865b",
      "placeholder": "​",
      "style": "IPY_MODEL_bb83d651759b49058a5afebad0f607fe",
      "value": "model.safetensors: 100%"
     }
    },
    "81f9622cbc9440fba1a0827b8d0fb2de": {
     "model_module": "@jupyter-widgets/controls",
     "model_module_version": "1.5.0",
     "model_name": "HBoxModel",
     "state": {
      "_dom_classes": [],
      "_model_module": "@jupyter-widgets/controls",
      "_model_module_version": "1.5.0",
      "_model_name": "HBoxModel",
      "_view_count": null,
      "_view_module": "@jupyter-widgets/controls",
      "_view_module_version": "1.5.0",
      "_view_name": "HBoxView",
      "box_style": "",
      "children": [
       "IPY_MODEL_6eb302ee16d84c5a8e85ccac3010dfe0",
       "IPY_MODEL_3bee319804ff4ce0945ea503d9d2e1fb",
       "IPY_MODEL_1c9a8bc9341f4daea0fe8f372c90e5eb"
      ],
      "layout": "IPY_MODEL_2fc6fb9a2bb84df8b251fc655919b130"
     }
    },
    "84ff3fadcbdd4c0286804647eec5f78e": {
     "model_module": "@jupyter-widgets/controls",
     "model_module_version": "1.5.0",
     "model_name": "HTMLModel",
     "state": {
      "_dom_classes": [],
      "_model_module": "@jupyter-widgets/controls",
      "_model_module_version": "1.5.0",
      "_model_name": "HTMLModel",
      "_view_count": null,
      "_view_module": "@jupyter-widgets/controls",
      "_view_module_version": "1.5.0",
      "_view_name": "HTMLView",
      "description": "",
      "description_tooltip": null,
      "layout": "IPY_MODEL_b8f48132c5fc4323859d32b43aaf0d85",
      "placeholder": "​",
      "style": "IPY_MODEL_31da405cbb7d498abe4bfd02dcd9d346",
      "value": " 1.47k/1.47k [00:00&lt;00:00, 82.2kB/s]"
     }
    },
    "917d5d85349342f58d415ed6c04b522a": {
     "model_module": "@jupyter-widgets/controls",
     "model_module_version": "1.5.0",
     "model_name": "DescriptionStyleModel",
     "state": {
      "_model_module": "@jupyter-widgets/controls",
      "_model_module_version": "1.5.0",
      "_model_name": "DescriptionStyleModel",
      "_view_count": null,
      "_view_module": "@jupyter-widgets/base",
      "_view_module_version": "1.2.0",
      "_view_name": "StyleView",
      "description_width": ""
     }
    },
    "b771ad628b6d431eb213da438369f5ac": {
     "model_module": "@jupyter-widgets/controls",
     "model_module_version": "1.5.0",
     "model_name": "ProgressStyleModel",
     "state": {
      "_model_module": "@jupyter-widgets/controls",
      "_model_module_version": "1.5.0",
      "_model_name": "ProgressStyleModel",
      "_view_count": null,
      "_view_module": "@jupyter-widgets/base",
      "_view_module_version": "1.2.0",
      "_view_name": "StyleView",
      "bar_color": null,
      "description_width": ""
     }
    },
    "b8f48132c5fc4323859d32b43aaf0d85": {
     "model_module": "@jupyter-widgets/base",
     "model_module_version": "1.2.0",
     "model_name": "LayoutModel",
     "state": {
      "_model_module": "@jupyter-widgets/base",
      "_model_module_version": "1.2.0",
      "_model_name": "LayoutModel",
      "_view_count": null,
      "_view_module": "@jupyter-widgets/base",
      "_view_module_version": "1.2.0",
      "_view_name": "LayoutView",
      "align_content": null,
      "align_items": null,
      "align_self": null,
      "border": null,
      "bottom": null,
      "display": null,
      "flex": null,
      "flex_flow": null,
      "grid_area": null,
      "grid_auto_columns": null,
      "grid_auto_flow": null,
      "grid_auto_rows": null,
      "grid_column": null,
      "grid_gap": null,
      "grid_row": null,
      "grid_template_areas": null,
      "grid_template_columns": null,
      "grid_template_rows": null,
      "height": null,
      "justify_content": null,
      "justify_items": null,
      "left": null,
      "margin": null,
      "max_height": null,
      "max_width": null,
      "min_height": null,
      "min_width": null,
      "object_fit": null,
      "object_position": null,
      "order": null,
      "overflow": null,
      "overflow_x": null,
      "overflow_y": null,
      "padding": null,
      "right": null,
      "top": null,
      "visibility": null,
      "width": null
     }
    },
    "bb83d651759b49058a5afebad0f607fe": {
     "model_module": "@jupyter-widgets/controls",
     "model_module_version": "1.5.0",
     "model_name": "DescriptionStyleModel",
     "state": {
      "_model_module": "@jupyter-widgets/controls",
      "_model_module_version": "1.5.0",
      "_model_name": "DescriptionStyleModel",
      "_view_count": null,
      "_view_module": "@jupyter-widgets/base",
      "_view_module_version": "1.2.0",
      "_view_name": "StyleView",
      "description_width": ""
     }
    },
    "c40ec174d45a47b79d9e6339f3aaa624": {
     "model_module": "@jupyter-widgets/controls",
     "model_module_version": "1.5.0",
     "model_name": "ProgressStyleModel",
     "state": {
      "_model_module": "@jupyter-widgets/controls",
      "_model_module_version": "1.5.0",
      "_model_name": "ProgressStyleModel",
      "_view_count": null,
      "_view_module": "@jupyter-widgets/base",
      "_view_module_version": "1.2.0",
      "_view_name": "StyleView",
      "bar_color": null,
      "description_width": ""
     }
    },
    "c992276bfd33477ba8e0684d4eed170e": {
     "model_module": "@jupyter-widgets/controls",
     "model_module_version": "1.5.0",
     "model_name": "DescriptionStyleModel",
     "state": {
      "_model_module": "@jupyter-widgets/controls",
      "_model_module_version": "1.5.0",
      "_model_name": "DescriptionStyleModel",
      "_view_count": null,
      "_view_module": "@jupyter-widgets/base",
      "_view_module_version": "1.2.0",
      "_view_name": "StyleView",
      "description_width": ""
     }
    },
    "cdf35fcbbd8e48baaba19b13f9fc0de1": {
     "model_module": "@jupyter-widgets/base",
     "model_module_version": "1.2.0",
     "model_name": "LayoutModel",
     "state": {
      "_model_module": "@jupyter-widgets/base",
      "_model_module_version": "1.2.0",
      "_model_name": "LayoutModel",
      "_view_count": null,
      "_view_module": "@jupyter-widgets/base",
      "_view_module_version": "1.2.0",
      "_view_name": "LayoutView",
      "align_content": null,
      "align_items": null,
      "align_self": null,
      "border": null,
      "bottom": null,
      "display": null,
      "flex": null,
      "flex_flow": null,
      "grid_area": null,
      "grid_auto_columns": null,
      "grid_auto_flow": null,
      "grid_auto_rows": null,
      "grid_column": null,
      "grid_gap": null,
      "grid_row": null,
      "grid_template_areas": null,
      "grid_template_columns": null,
      "grid_template_rows": null,
      "height": null,
      "justify_content": null,
      "justify_items": null,
      "left": null,
      "margin": null,
      "max_height": null,
      "max_width": null,
      "min_height": null,
      "min_width": null,
      "object_fit": null,
      "object_position": null,
      "order": null,
      "overflow": null,
      "overflow_x": null,
      "overflow_y": null,
      "padding": null,
      "right": null,
      "top": null,
      "visibility": null,
      "width": null
     }
    },
    "d9610ef550ac49ec9b61bde5ab831bb5": {
     "model_module": "@jupyter-widgets/controls",
     "model_module_version": "1.5.0",
     "model_name": "HBoxModel",
     "state": {
      "_dom_classes": [],
      "_model_module": "@jupyter-widgets/controls",
      "_model_module_version": "1.5.0",
      "_model_name": "HBoxModel",
      "_view_count": null,
      "_view_module": "@jupyter-widgets/controls",
      "_view_module_version": "1.5.0",
      "_view_name": "HBoxView",
      "box_style": "",
      "children": [
       "IPY_MODEL_0e86ef3b432e4e9bac1e0a9a82fe845a",
       "IPY_MODEL_fdb023f6c7d14b529e6e2610f6dc9556",
       "IPY_MODEL_84ff3fadcbdd4c0286804647eec5f78e"
      ],
      "layout": "IPY_MODEL_1384f52de6014ee5918710c2060fcd30"
     }
    },
    "f35404cd6c084347b467288b6ed92514": {
     "model_module": "@jupyter-widgets/base",
     "model_module_version": "1.2.0",
     "model_name": "LayoutModel",
     "state": {
      "_model_module": "@jupyter-widgets/base",
      "_model_module_version": "1.2.0",
      "_model_name": "LayoutModel",
      "_view_count": null,
      "_view_module": "@jupyter-widgets/base",
      "_view_module_version": "1.2.0",
      "_view_name": "LayoutView",
      "align_content": null,
      "align_items": null,
      "align_self": null,
      "border": null,
      "bottom": null,
      "display": null,
      "flex": null,
      "flex_flow": null,
      "grid_area": null,
      "grid_auto_columns": null,
      "grid_auto_flow": null,
      "grid_auto_rows": null,
      "grid_column": null,
      "grid_gap": null,
      "grid_row": null,
      "grid_template_areas": null,
      "grid_template_columns": null,
      "grid_template_rows": null,
      "height": null,
      "justify_content": null,
      "justify_items": null,
      "left": null,
      "margin": null,
      "max_height": null,
      "max_width": null,
      "min_height": null,
      "min_width": null,
      "object_fit": null,
      "object_position": null,
      "order": null,
      "overflow": null,
      "overflow_x": null,
      "overflow_y": null,
      "padding": null,
      "right": null,
      "top": null,
      "visibility": null,
      "width": null
     }
    },
    "fdb023f6c7d14b529e6e2610f6dc9556": {
     "model_module": "@jupyter-widgets/controls",
     "model_module_version": "1.5.0",
     "model_name": "FloatProgressModel",
     "state": {
      "_dom_classes": [],
      "_model_module": "@jupyter-widgets/controls",
      "_model_module_version": "1.5.0",
      "_model_name": "FloatProgressModel",
      "_view_count": null,
      "_view_module": "@jupyter-widgets/controls",
      "_view_module_version": "1.5.0",
      "_view_name": "ProgressView",
      "bar_style": "success",
      "description": "",
      "description_tooltip": null,
      "layout": "IPY_MODEL_cdf35fcbbd8e48baaba19b13f9fc0de1",
      "max": 1469,
      "min": 0,
      "orientation": "horizontal",
      "style": "IPY_MODEL_b771ad628b6d431eb213da438369f5ac",
      "value": 1469
     }
    }
   }
  }
 },
 "nbformat": 4,
 "nbformat_minor": 5
}
